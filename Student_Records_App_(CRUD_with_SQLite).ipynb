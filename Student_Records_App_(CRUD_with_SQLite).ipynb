{
  "nbformat": 4,
  "nbformat_minor": 0,
  "metadata": {
    "colab": {
      "provenance": []
    },
    "kernelspec": {
      "name": "python3",
      "display_name": "Python 3"
    },
    "language_info": {
      "name": "python"
    }
  },
  "cells": [
    {
      "cell_type": "code",
      "execution_count": 1,
      "metadata": {
        "colab": {
          "base_uri": "https://localhost:8080/"
        },
        "id": "sA0mSlfN6hmK",
        "outputId": "4ddc1e3f-39f3-4204-a7f6-e6d576ec8d73"
      },
      "outputs": [
        {
          "output_type": "stream",
          "name": "stdout",
          "text": [
            "Student Alice added successfully!\n",
            "Student Bob added successfully!\n",
            "Student Charlie added successfully!\n",
            "\n",
            "--- Student Records ---\n",
            "(1, 'Alice', 'CS101', 'CSE', 9.1)\n",
            "(2, 'Bob', 'CS102', 'CSE', 8.7)\n",
            "(3, 'Charlie', 'EC201', 'ECE', 8.5)\n",
            "GPA updated for Roll No CS101\n",
            "Student with Roll No EC201 deleted\n",
            "\n",
            "--- Student Records ---\n",
            "(1, 'Alice', 'CS101', 'CSE', 9.4)\n",
            "(2, 'Bob', 'CS102', 'CSE', 8.7)\n"
          ]
        }
      ],
      "source": [
        "import sqlite3\n",
        "\n",
        "# Create DB\n",
        "conn = sqlite3.connect(\"student_records.db\")\n",
        "cursor = conn.cursor()\n",
        "\n",
        "# Create table\n",
        "cursor.execute(\"\"\"\n",
        "CREATE TABLE IF NOT EXISTS students (\n",
        "    id INTEGER PRIMARY KEY AUTOINCREMENT,\n",
        "    name TEXT NOT NULL,\n",
        "    roll_no TEXT UNIQUE NOT NULL,\n",
        "    department TEXT,\n",
        "    gpa REAL\n",
        ")\n",
        "\"\"\")\n",
        "conn.commit()\n",
        "\n",
        "# Function to add student\n",
        "def add_student(name, roll_no, department, gpa):\n",
        "    try:\n",
        "        cursor.execute(\"INSERT INTO students (name, roll_no, department, gpa) VALUES (?, ?, ?, ?)\",\n",
        "                       (name, roll_no, department, gpa))\n",
        "        conn.commit()\n",
        "        print(f\"Student {name} added successfully!\")\n",
        "    except sqlite3.IntegrityError:\n",
        "        print(\"❌ Roll number already exists!\")\n",
        "\n",
        "# Function to view all students\n",
        "def view_students():\n",
        "    cursor.execute(\"SELECT * FROM students\")\n",
        "    rows = cursor.fetchall()\n",
        "    print(\"\\n--- Student Records ---\")\n",
        "    for row in rows:\n",
        "        print(row)\n",
        "\n",
        "# Function to update GPA\n",
        "def update_gpa(roll_no, new_gpa):\n",
        "    cursor.execute(\"UPDATE students SET gpa = ? WHERE roll_no = ?\", (new_gpa, roll_no))\n",
        "    conn.commit()\n",
        "    print(f\"GPA updated for Roll No {roll_no}\")\n",
        "\n",
        "# Function to delete student\n",
        "def delete_student(roll_no):\n",
        "    cursor.execute(\"DELETE FROM students WHERE roll_no = ?\", (roll_no,))\n",
        "    conn.commit()\n",
        "    print(f\"Student with Roll No {roll_no} deleted\")\n",
        "\n",
        "# ---------------- DEMO ----------------\n",
        "add_student(\"Alice\", \"CS101\", \"CSE\", 9.1)\n",
        "add_student(\"Bob\", \"CS102\", \"CSE\", 8.7)\n",
        "add_student(\"Charlie\", \"EC201\", \"ECE\", 8.5)\n",
        "\n",
        "view_students()\n",
        "\n",
        "update_gpa(\"CS101\", 9.4)\n",
        "delete_student(\"EC201\")\n",
        "\n",
        "view_students()\n"
      ]
    }
  ]
}